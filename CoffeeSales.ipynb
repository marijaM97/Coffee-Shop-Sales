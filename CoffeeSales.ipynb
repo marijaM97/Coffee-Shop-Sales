{
 "cells": [
  {
   "cell_type": "code",
   "execution_count": 2,
   "id": "4a8d7c06-b80d-4de9-9b8b-456a50e68f11",
   "metadata": {},
   "outputs": [],
   "source": [
    "import pandas as pd\n",
    "import matplotlib.pyplot as plt\n",
    "import seaborn as sns"
   ]
  },
  {
   "cell_type": "code",
   "execution_count": 3,
   "id": "49ab7bfa-3445-4281-9fec-5128f73f3928",
   "metadata": {},
   "outputs": [
    {
     "data": {
      "text/html": [
       "<div>\n",
       "<style scoped>\n",
       "    .dataframe tbody tr th:only-of-type {\n",
       "        vertical-align: middle;\n",
       "    }\n",
       "\n",
       "    .dataframe tbody tr th {\n",
       "        vertical-align: top;\n",
       "    }\n",
       "\n",
       "    .dataframe thead th {\n",
       "        text-align: right;\n",
       "    }\n",
       "</style>\n",
       "<table border=\"1\" class=\"dataframe\">\n",
       "  <thead>\n",
       "    <tr style=\"text-align: right;\">\n",
       "      <th></th>\n",
       "      <th>transaction_id</th>\n",
       "      <th>transaction_date</th>\n",
       "      <th>transaction_time</th>\n",
       "      <th>transaction_qty</th>\n",
       "      <th>store_id</th>\n",
       "      <th>store_location</th>\n",
       "      <th>product_id</th>\n",
       "      <th>unit_price</th>\n",
       "      <th>product_category</th>\n",
       "      <th>product_type</th>\n",
       "      <th>product_detail</th>\n",
       "    </tr>\n",
       "  </thead>\n",
       "  <tbody>\n",
       "    <tr>\n",
       "      <th>0</th>\n",
       "      <td>1</td>\n",
       "      <td>1/1/2023</td>\n",
       "      <td>07:06:11</td>\n",
       "      <td>2</td>\n",
       "      <td>5</td>\n",
       "      <td>Lower Manhattan</td>\n",
       "      <td>32</td>\n",
       "      <td>3.00</td>\n",
       "      <td>Coffee</td>\n",
       "      <td>Gourmet brewed coffee</td>\n",
       "      <td>Ethiopia Rg</td>\n",
       "    </tr>\n",
       "    <tr>\n",
       "      <th>1</th>\n",
       "      <td>2</td>\n",
       "      <td>1/1/2023</td>\n",
       "      <td>07:08:56</td>\n",
       "      <td>2</td>\n",
       "      <td>5</td>\n",
       "      <td>Lower Manhattan</td>\n",
       "      <td>57</td>\n",
       "      <td>3.10</td>\n",
       "      <td>Tea</td>\n",
       "      <td>Brewed Chai tea</td>\n",
       "      <td>Spicy Eye Opener Chai Lg</td>\n",
       "    </tr>\n",
       "    <tr>\n",
       "      <th>2</th>\n",
       "      <td>3</td>\n",
       "      <td>1/1/2023</td>\n",
       "      <td>07:14:04</td>\n",
       "      <td>2</td>\n",
       "      <td>5</td>\n",
       "      <td>Lower Manhattan</td>\n",
       "      <td>59</td>\n",
       "      <td>4.50</td>\n",
       "      <td>Drinking Chocolate</td>\n",
       "      <td>Hot chocolate</td>\n",
       "      <td>Dark chocolate Lg</td>\n",
       "    </tr>\n",
       "    <tr>\n",
       "      <th>3</th>\n",
       "      <td>4</td>\n",
       "      <td>1/1/2023</td>\n",
       "      <td>07:20:24</td>\n",
       "      <td>1</td>\n",
       "      <td>5</td>\n",
       "      <td>Lower Manhattan</td>\n",
       "      <td>22</td>\n",
       "      <td>2.00</td>\n",
       "      <td>Coffee</td>\n",
       "      <td>Drip coffee</td>\n",
       "      <td>Our Old Time Diner Blend Sm</td>\n",
       "    </tr>\n",
       "    <tr>\n",
       "      <th>4</th>\n",
       "      <td>5</td>\n",
       "      <td>1/1/2023</td>\n",
       "      <td>07:22:41</td>\n",
       "      <td>2</td>\n",
       "      <td>5</td>\n",
       "      <td>Lower Manhattan</td>\n",
       "      <td>57</td>\n",
       "      <td>3.10</td>\n",
       "      <td>Tea</td>\n",
       "      <td>Brewed Chai tea</td>\n",
       "      <td>Spicy Eye Opener Chai Lg</td>\n",
       "    </tr>\n",
       "    <tr>\n",
       "      <th>...</th>\n",
       "      <td>...</td>\n",
       "      <td>...</td>\n",
       "      <td>...</td>\n",
       "      <td>...</td>\n",
       "      <td>...</td>\n",
       "      <td>...</td>\n",
       "      <td>...</td>\n",
       "      <td>...</td>\n",
       "      <td>...</td>\n",
       "      <td>...</td>\n",
       "      <td>...</td>\n",
       "    </tr>\n",
       "    <tr>\n",
       "      <th>149111</th>\n",
       "      <td>149452</td>\n",
       "      <td>6/30/2023</td>\n",
       "      <td>20:18:41</td>\n",
       "      <td>2</td>\n",
       "      <td>8</td>\n",
       "      <td>Hell's Kitchen</td>\n",
       "      <td>44</td>\n",
       "      <td>2.50</td>\n",
       "      <td>Tea</td>\n",
       "      <td>Brewed herbal tea</td>\n",
       "      <td>Peppermint Rg</td>\n",
       "    </tr>\n",
       "    <tr>\n",
       "      <th>149112</th>\n",
       "      <td>149453</td>\n",
       "      <td>6/30/2023</td>\n",
       "      <td>20:25:10</td>\n",
       "      <td>2</td>\n",
       "      <td>8</td>\n",
       "      <td>Hell's Kitchen</td>\n",
       "      <td>49</td>\n",
       "      <td>3.00</td>\n",
       "      <td>Tea</td>\n",
       "      <td>Brewed Black tea</td>\n",
       "      <td>English Breakfast Lg</td>\n",
       "    </tr>\n",
       "    <tr>\n",
       "      <th>149113</th>\n",
       "      <td>149454</td>\n",
       "      <td>6/30/2023</td>\n",
       "      <td>20:31:34</td>\n",
       "      <td>1</td>\n",
       "      <td>8</td>\n",
       "      <td>Hell's Kitchen</td>\n",
       "      <td>45</td>\n",
       "      <td>3.00</td>\n",
       "      <td>Tea</td>\n",
       "      <td>Brewed herbal tea</td>\n",
       "      <td>Peppermint Lg</td>\n",
       "    </tr>\n",
       "    <tr>\n",
       "      <th>149114</th>\n",
       "      <td>149455</td>\n",
       "      <td>6/30/2023</td>\n",
       "      <td>20:57:19</td>\n",
       "      <td>1</td>\n",
       "      <td>8</td>\n",
       "      <td>Hell's Kitchen</td>\n",
       "      <td>40</td>\n",
       "      <td>3.75</td>\n",
       "      <td>Coffee</td>\n",
       "      <td>Barista Espresso</td>\n",
       "      <td>Cappuccino</td>\n",
       "    </tr>\n",
       "    <tr>\n",
       "      <th>149115</th>\n",
       "      <td>149456</td>\n",
       "      <td>6/30/2023</td>\n",
       "      <td>20:57:19</td>\n",
       "      <td>2</td>\n",
       "      <td>8</td>\n",
       "      <td>Hell's Kitchen</td>\n",
       "      <td>64</td>\n",
       "      <td>0.80</td>\n",
       "      <td>Flavours</td>\n",
       "      <td>Regular syrup</td>\n",
       "      <td>Hazelnut syrup</td>\n",
       "    </tr>\n",
       "  </tbody>\n",
       "</table>\n",
       "<p>149116 rows × 11 columns</p>\n",
       "</div>"
      ],
      "text/plain": [
       "        transaction_id transaction_date transaction_time  transaction_qty  \\\n",
       "0                    1         1/1/2023         07:06:11                2   \n",
       "1                    2         1/1/2023         07:08:56                2   \n",
       "2                    3         1/1/2023         07:14:04                2   \n",
       "3                    4         1/1/2023         07:20:24                1   \n",
       "4                    5         1/1/2023         07:22:41                2   \n",
       "...                ...              ...              ...              ...   \n",
       "149111          149452        6/30/2023         20:18:41                2   \n",
       "149112          149453        6/30/2023         20:25:10                2   \n",
       "149113          149454        6/30/2023         20:31:34                1   \n",
       "149114          149455        6/30/2023         20:57:19                1   \n",
       "149115          149456        6/30/2023         20:57:19                2   \n",
       "\n",
       "        store_id   store_location  product_id  unit_price    product_category  \\\n",
       "0              5  Lower Manhattan          32        3.00              Coffee   \n",
       "1              5  Lower Manhattan          57        3.10                 Tea   \n",
       "2              5  Lower Manhattan          59        4.50  Drinking Chocolate   \n",
       "3              5  Lower Manhattan          22        2.00              Coffee   \n",
       "4              5  Lower Manhattan          57        3.10                 Tea   \n",
       "...          ...              ...         ...         ...                 ...   \n",
       "149111         8   Hell's Kitchen          44        2.50                 Tea   \n",
       "149112         8   Hell's Kitchen          49        3.00                 Tea   \n",
       "149113         8   Hell's Kitchen          45        3.00                 Tea   \n",
       "149114         8   Hell's Kitchen          40        3.75              Coffee   \n",
       "149115         8   Hell's Kitchen          64        0.80            Flavours   \n",
       "\n",
       "                 product_type               product_detail  \n",
       "0       Gourmet brewed coffee                  Ethiopia Rg  \n",
       "1             Brewed Chai tea     Spicy Eye Opener Chai Lg  \n",
       "2               Hot chocolate            Dark chocolate Lg  \n",
       "3                 Drip coffee  Our Old Time Diner Blend Sm  \n",
       "4             Brewed Chai tea     Spicy Eye Opener Chai Lg  \n",
       "...                       ...                          ...  \n",
       "149111      Brewed herbal tea                Peppermint Rg  \n",
       "149112       Brewed Black tea         English Breakfast Lg  \n",
       "149113      Brewed herbal tea                Peppermint Lg  \n",
       "149114       Barista Espresso                   Cappuccino  \n",
       "149115          Regular syrup               Hazelnut syrup  \n",
       "\n",
       "[149116 rows x 11 columns]"
      ]
     },
     "execution_count": 3,
     "metadata": {},
     "output_type": "execute_result"
    }
   ],
   "source": [
    "df = pd.read_csv(r\"C:\\Users\\Intel\\Desktop\\coffee sales files\\Coffee Shop Sales.csv\")\n",
    "df"
   ]
  },
  {
   "cell_type": "code",
   "execution_count": 4,
   "id": "4fa8f6a0-2013-4845-91a4-18710c93229d",
   "metadata": {},
   "outputs": [],
   "source": [
    "df['transaction_date'] = pd.to_datetime(df['transaction_date'], format='%m/%d/%Y')\n",
    "df['transaction_time'] = pd.to_datetime(df['transaction_time'], format='%H:%M:%S')"
   ]
  },
  {
   "cell_type": "code",
   "execution_count": 5,
   "id": "beaad7fe-01c1-4b37-b867-9dafef1ac890",
   "metadata": {},
   "outputs": [],
   "source": [
    "df['sales'] = df['transaction_qty'] * df['unit_price']"
   ]
  },
  {
   "cell_type": "code",
   "execution_count": 6,
   "id": "d14daa3b-d07f-4cab-b476-aa82a89c47f5",
   "metadata": {},
   "outputs": [],
   "source": [
    "from ipywidgets import interactive"
   ]
  },
  {
   "cell_type": "code",
   "execution_count": 25,
   "id": "8b3ebd73-e0b8-442a-ba1f-a51971a6568e",
   "metadata": {},
   "outputs": [
    {
     "data": {
      "application/vnd.jupyter.widget-view+json": {
       "model_id": "354cfe7a094d4a87aaa704b5558f2786",
       "version_major": 2,
       "version_minor": 0
      },
      "text/plain": [
       "interactive(children=(Dropdown(description='Month:', options=(Period('2023-01', 'M'), Period('2023-02', 'M'), …"
      ]
     },
     "metadata": {},
     "output_type": "display_data"
    },
    {
     "data": {
      "application/vnd.jupyter.widget-view+json": {
       "model_id": "fb4f9b7c751a4f858b934458d07e86ac",
       "version_major": 2,
       "version_minor": 0
      },
      "text/plain": [
       "Output()"
      ]
     },
     "metadata": {},
     "output_type": "display_data"
    }
   ],
   "source": [
    "#Total Sales Analysis\n",
    "\n",
    "output = Output()\n",
    "\n",
    "def total_sales_by_month(month):\n",
    "    with output:\n",
    "        output.clear_output()  \n",
    "\n",
    "        monthly_sales = df[df['transaction_date'].dt.to_period('M') == month]['sales'].sum()\n",
    "        \n",
    "        print(f\"Month: {month} - Total Sales: ${monthly_sales:.2f}\")\n",
    "\n",
    "months = df['transaction_date'].dt.to_period('M').unique()\n",
    "\n",
    "interactive_plot = interactive(total_sales_by_month, month=widgets.Dropdown(options=months, description='Month:'))\n",
    "\n",
    "display(interactive_plot, output)\n"
   ]
  },
  {
   "cell_type": "code",
   "execution_count": 27,
   "id": "ac08c2ba-f829-48a7-bad2-2b5cb4dc4d89",
   "metadata": {},
   "outputs": [
    {
     "data": {
      "application/vnd.jupyter.widget-view+json": {
       "model_id": "8f11e8415b3a40dd8b77760f7e3160d5",
       "version_major": 2,
       "version_minor": 0
      },
      "text/plain": [
       "interactive(children=(Dropdown(description='Month:', options=(Period('2023-01', 'M'), Period('2023-02', 'M'), …"
      ]
     },
     "metadata": {},
     "output_type": "display_data"
    },
    {
     "data": {
      "application/vnd.jupyter.widget-view+json": {
       "model_id": "d0a74b3a874f49e7a2bd0d55ae3138a4",
       "version_major": 2,
       "version_minor": 0
      },
      "text/plain": [
       "Output()"
      ]
     },
     "metadata": {},
     "output_type": "display_data"
    }
   ],
   "source": [
    "#Total Orders Analysis\n",
    "\n",
    "output = Output()\n",
    "\n",
    "def orders_by_month(month):\n",
    "    with output:\n",
    "        output.clear_output()  \n",
    "       \n",
    "        monthly_orders = df[df['transaction_date'].dt.to_period('M') == month]['transaction_id'].nunique()\n",
    "        \n",
    "        \n",
    "        print(f\"Month: {month} - Total Orders: {monthly_orders}\")\n",
    "\n",
    "\n",
    "months = df['transaction_date'].dt.to_period('M').unique()\n",
    "\n",
    "\n",
    "interactive_plot = interactive(orders_by_month, month=widgets.Dropdown(options=months, description='Month:'))\n",
    "\n",
    "\n",
    "display(interactive_plot, output)\n"
   ]
  },
  {
   "cell_type": "code",
   "execution_count": 29,
   "id": "7ca0f34e-8795-4c2c-85d0-fc9a7af77b5f",
   "metadata": {},
   "outputs": [
    {
     "data": {
      "application/vnd.jupyter.widget-view+json": {
       "model_id": "b3d4f0ab861a4b588c045e1ad588b27b",
       "version_major": 2,
       "version_minor": 0
      },
      "text/plain": [
       "interactive(children=(Dropdown(description='Month:', options=(Period('2023-01', 'M'), Period('2023-02', 'M'), …"
      ]
     },
     "metadata": {},
     "output_type": "display_data"
    }
   ],
   "source": [
    "# Total Quantity Sold Analysis\n",
    "\n",
    "df['transaction_date'] = pd.to_datetime(df['transaction_date'], format='%m/%d/%Y', errors='coerce')\n",
    "\n",
    "def quantity_by_month(month):\n",
    "\n",
    "    monthly_quantity = df[df['transaction_date'].dt.to_period('M') == month]['transaction_qty'].sum()\n",
    "    \n",
    " \n",
    "    print(f\"Month: {month} - Total Quantity Sold: {monthly_quantity}\")\n",
    "\n",
    "\n",
    "months = df['transaction_date'].dt.to_period('M').unique()\n",
    "\n",
    "\n",
    "interactive_plot = interactive(quantity_by_month, month=widgets.Dropdown(options=months, description='Month:'))\n",
    "\n",
    "\n",
    "display(interactive_plot)\n"
   ]
  },
  {
   "cell_type": "code",
   "execution_count": 33,
   "id": "33d3800c-1253-429f-96d1-34dfc7713841",
   "metadata": {},
   "outputs": [
    {
     "data": {
      "application/vnd.jupyter.widget-view+json": {
       "model_id": "59ac1c708589439ea740afa5f388101c",
       "version_major": 2,
       "version_minor": 0
      },
      "text/plain": [
       "interactive(children=(Dropdown(description='Location:', options=('Lower Manhattan', \"Hell's Kitchen\", 'Astoria…"
      ]
     },
     "metadata": {},
     "output_type": "display_data"
    }
   ],
   "source": [
    "#Total Sales by Store Location\n",
    "\n",
    "def sales_by_location_and_month(location, month):\n",
    "   \n",
    "    monthly_sales = df[(df['transaction_date'].dt.to_period('M') == month) & (df['store_location'] == location)]\n",
    "    total_sales = monthly_sales['sales'].sum()\n",
    "\n",
    "  \n",
    "    print(f\"Location: {location} - Month: {month} - Total Sales: {total_sales}\")\n",
    "    \n",
    "   \n",
    "    plt.figure(figsize=(10, 6))\n",
    "    monthly_sales_grouped = monthly_sales.groupby('transaction_date')['sales'].sum()\n",
    "    monthly_sales_grouped.plot(kind='bar', color='skyblue', title=f\"Sales for {location} in {month}\", xlabel='Date', ylabel='Sales')\n",
    "\n",
    "\n",
    "    plt.xticks(ticks=range(len(monthly_sales_grouped)), labels=monthly_sales_grouped.index.strftime('%d'), rotation=45)\n",
    "    \n",
    "    plt.show()\n",
    "\n",
    "\n",
    "months = df['transaction_date'].dt.to_period('M').unique()\n",
    "store_locations = df['store_location'].unique()\n",
    "\n",
    "\n",
    "interactive_plot = interactive(sales_by_location_and_month, \n",
    "                               location=widgets.Dropdown(options=store_locations, description='Location:'),\n",
    "                               month=widgets.Dropdown(options=months, description='Month:'))\n",
    "\n",
    "\n",
    "display(interactive_plot)\n"
   ]
  },
  {
   "cell_type": "code",
   "execution_count": 35,
   "id": "7f4d1598-0fd7-4395-8dff-10dca2f6afa3",
   "metadata": {},
   "outputs": [
    {
     "data": {
      "application/vnd.jupyter.widget-view+json": {
       "model_id": "a9a95972115747b6ba12ac844db8ba82",
       "version_major": 2,
       "version_minor": 0
      },
      "text/plain": [
       "interactive(children=(Dropdown(description='Month:', options=(Period('2023-01', 'M'), Period('2023-02', 'M'), …"
      ]
     },
     "metadata": {},
     "output_type": "display_data"
    }
   ],
   "source": [
    "#Sales Analysis By Product Category\n",
    "\n",
    "def sales_by_product_category_for_month(month):\n",
    "\n",
    "    monthly_sales = df[df['transaction_date'].dt.to_period('M') == month]\n",
    "    \n",
    "  \n",
    "    sales_by_category = monthly_sales.groupby('product_category')['sales'].sum().sort_values(ascending=False)\n",
    "    \n",
    "  \n",
    "    print(f\"Sales for {month} by Product Category:\")\n",
    "    print(sales_by_category)\n",
    "    \n",
    "\n",
    "    plt.figure(figsize=(10, 6))\n",
    "    sales_by_category.plot(kind='bar', color='skyblue', title=f\"Sales by Product Category for {month}\", xlabel=\"Product Category\", ylabel=\"Sales\")\n",
    "    plt.xticks(rotation=45)\n",
    "    plt.show()\n",
    "\n",
    "\n",
    "months = df['transaction_date'].dt.to_period('M').unique()\n",
    "\n",
    "\n",
    "interactive_plot = interactive(sales_by_product_category_for_month, month=widgets.Dropdown(options=months, description='Month:'))\n",
    "\n",
    "\n",
    "display(interactive_plot)\n"
   ]
  },
  {
   "cell_type": "code",
   "execution_count": 37,
   "id": "95b36ed5-2a33-4bdb-95c2-e68c3640fcd8",
   "metadata": {},
   "outputs": [
    {
     "data": {
      "application/vnd.jupyter.widget-view+json": {
       "model_id": "6c67fcdb0b3e4d73928c794ec8b1a088",
       "version_major": 2,
       "version_minor": 0
      },
      "text/plain": [
       "interactive(children=(Dropdown(description='Month:', options=(Period('2023-01', 'M'), Period('2023-02', 'M'), …"
      ]
     },
     "metadata": {},
     "output_type": "display_data"
    }
   ],
   "source": [
    "#Top 10 Products by Sales\n",
    "\n",
    "df['total_sales'] = df['unit_price'] * df['transaction_qty']\n",
    "\n",
    "def top_10_products_by_month(selected_month):\n",
    "\n",
    "    month_data = df[df['transaction_date'].dt.to_period('M') == selected_month]\n",
    "\n",
    "    sales_by_product = month_data.groupby('product_type')['total_sales'].sum().sort_values(ascending=False).head(10)\n",
    "\n",
    "    print(f\"Top 10 Products by Sales for {selected_month}:\")\n",
    "    print(sales_by_product)\n",
    "    \n",
    "    sales_by_product.plot(kind='bar', figsize=(10, 6), color='skyblue')\n",
    "    plt.title(f'Top 10 Products by Sales in {selected_month}')\n",
    "    plt.xlabel('Product Type')\n",
    "    plt.ylabel('Total Sales')\n",
    "    plt.xticks(rotation=45, ha=\"right\")\n",
    "    plt.show()\n",
    "\n",
    "months = df['transaction_date'].dt.to_period('M').unique()\n",
    "\n",
    "interactive_plot = interactive(top_10_products_by_month, selected_month=widgets.Dropdown(options=months, description='Month:'))\n",
    "display(interactive_plot)\n"
   ]
  },
  {
   "cell_type": "code",
   "execution_count": null,
   "id": "1879ed55-f9e3-4497-8b4f-923a072f622e",
   "metadata": {},
   "outputs": [],
   "source": []
  }
 ],
 "metadata": {
  "kernelspec": {
   "display_name": "Python [conda env:base] *",
   "language": "python",
   "name": "conda-base-py"
  },
  "language_info": {
   "codemirror_mode": {
    "name": "ipython",
    "version": 3
   },
   "file_extension": ".py",
   "mimetype": "text/x-python",
   "name": "python",
   "nbconvert_exporter": "python",
   "pygments_lexer": "ipython3",
   "version": "3.12.3"
  }
 },
 "nbformat": 4,
 "nbformat_minor": 5
}
